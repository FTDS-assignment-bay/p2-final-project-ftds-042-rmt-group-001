{
 "cells": [
  {
   "cell_type": "markdown",
   "id": "b81d9c18",
   "metadata": {},
   "source": [
    "# 1. Instantiate Data Context"
   ]
  },
  {
   "cell_type": "code",
   "execution_count": 1,
   "id": "258d3189",
   "metadata": {},
   "outputs": [],
   "source": [
    "# Create a data context\n",
    "\n",
    "from great_expectations.data_context import FileDataContext\n",
    "\n",
    "context = FileDataContext.create(project_root_dir='./')"
   ]
  },
  {
   "cell_type": "markdown",
   "id": "a1b76b6e",
   "metadata": {},
   "source": [
    "# 2. Connect to a datasource"
   ]
  },
  {
   "cell_type": "code",
   "execution_count": null,
   "id": "905e2173",
   "metadata": {},
   "outputs": [],
   "source": [
    "# Give a name to a Datasource. This name must be unique between Datasources.\n",
    "datasource_name = 'csv-projekfinal'\n",
    "datasource = context.sources.add_pandas(datasource_name)\n",
    "\n",
    "# Give a name to a data asset\n",
    "asset_name = 'komoditas-pangan'\n",
    "path_to_data = '.\\dags\\data_clean_interpolasi.csv'\n",
    "asset = datasource.add_csv_asset(asset_name, filepath_or_buffer=path_to_data)\n",
    "\n",
    "# Build batch request\n",
    "batch_request = asset.build_batch_request()"
   ]
  },
  {
   "cell_type": "markdown",
   "id": "6de2951c",
   "metadata": {},
   "source": [
    "# 3. create an expectation suite"
   ]
  },
  {
   "cell_type": "code",
   "execution_count": 3,
   "id": "adcc9142",
   "metadata": {},
   "outputs": [
    {
     "data": {
      "application/vnd.jupyter.widget-view+json": {
       "model_id": "b664c0d41e5b405ba2ab49f6099f8183",
       "version_major": 2,
       "version_minor": 0
      },
      "text/plain": [
       "Calculating Metrics:   0%|          | 0/1 [00:00<?, ?it/s]"
      ]
     },
     "metadata": {},
     "output_type": "display_data"
    },
    {
     "data": {
      "text/html": [
       "<div>\n",
       "<style scoped>\n",
       "    .dataframe tbody tr th:only-of-type {\n",
       "        vertical-align: middle;\n",
       "    }\n",
       "\n",
       "    .dataframe tbody tr th {\n",
       "        vertical-align: top;\n",
       "    }\n",
       "\n",
       "    .dataframe thead th {\n",
       "        text-align: right;\n",
       "    }\n",
       "</style>\n",
       "<table border=\"1\" class=\"dataframe\">\n",
       "  <thead>\n",
       "    <tr style=\"text-align: right;\">\n",
       "      <th></th>\n",
       "      <th>date</th>\n",
       "      <th>komoditas</th>\n",
       "      <th>provinsi</th>\n",
       "      <th>harga</th>\n",
       "    </tr>\n",
       "  </thead>\n",
       "  <tbody>\n",
       "    <tr>\n",
       "      <th>0</th>\n",
       "      <td>2021-02-18</td>\n",
       "      <td>Beras Medium</td>\n",
       "      <td>Jawa Timur</td>\n",
       "      <td>10600.000000</td>\n",
       "    </tr>\n",
       "    <tr>\n",
       "      <th>1</th>\n",
       "      <td>2021-02-19</td>\n",
       "      <td>Beras Medium</td>\n",
       "      <td>Jawa Timur</td>\n",
       "      <td>10594.736842</td>\n",
       "    </tr>\n",
       "    <tr>\n",
       "      <th>2</th>\n",
       "      <td>2021-02-20</td>\n",
       "      <td>Beras Medium</td>\n",
       "      <td>Jawa Timur</td>\n",
       "      <td>10589.473684</td>\n",
       "    </tr>\n",
       "    <tr>\n",
       "      <th>3</th>\n",
       "      <td>2021-02-21</td>\n",
       "      <td>Beras Medium</td>\n",
       "      <td>Jawa Timur</td>\n",
       "      <td>10584.210526</td>\n",
       "    </tr>\n",
       "    <tr>\n",
       "      <th>4</th>\n",
       "      <td>2021-02-22</td>\n",
       "      <td>Beras Medium</td>\n",
       "      <td>Jawa Timur</td>\n",
       "      <td>10578.947368</td>\n",
       "    </tr>\n",
       "  </tbody>\n",
       "</table>\n",
       "</div>"
      ],
      "text/plain": [
       "         date     komoditas    provinsi         harga\n",
       "0  2021-02-18  Beras Medium  Jawa Timur  10600.000000\n",
       "1  2021-02-19  Beras Medium  Jawa Timur  10594.736842\n",
       "2  2021-02-20  Beras Medium  Jawa Timur  10589.473684\n",
       "3  2021-02-21  Beras Medium  Jawa Timur  10584.210526\n",
       "4  2021-02-22  Beras Medium  Jawa Timur  10578.947368"
      ]
     },
     "execution_count": 3,
     "metadata": {},
     "output_type": "execute_result"
    }
   ],
   "source": [
    "# Creat an expectation suite\n",
    "expectation_suite_name = 'expectation-projekfinal-dataset'\n",
    "context.add_or_update_expectation_suite(expectation_suite_name)\n",
    "\n",
    "# Create a validator using above expectation suite\n",
    "validator = context.get_validator(\n",
    "    batch_request = batch_request,\n",
    "    expectation_suite_name = expectation_suite_name\n",
    ")\n",
    "\n",
    "# Check the validator\n",
    "validator.head()"
   ]
  },
  {
   "cell_type": "markdown",
   "id": "2c54d91f",
   "metadata": {},
   "source": [
    "# Expectations\n",
    "### 1. To be Unique"
   ]
  },
  {
   "cell_type": "markdown",
   "id": "769d90d4",
   "metadata": {},
   "source": [
    "Dalam dataset ini, kolom tanggal dan komoditas tidak bersifat unik karena masing-masing mewakili satu dimensi informasi. Kolom tanggal mencerminkan waktu pencatatan harga, sehingga wajar jika banyak entri memiliki tanggal yang sama, terutama ketika data dikumpulkan dari berbagai provinsi dan komoditas. Demikian pula, komoditas hanya menunjukkan jenis barang, bukan identitas unik untuk tiap baris data. Oleh karena itu, keunikan baris tidak bisa dilihat dari satu kolom saja, melainkan dari kombinasi beberapa kolom seperti komoditas, provinsi, dan tanggal.\n",
    "\n",
    "Sehingga, perlu dibuat kolom baru yang berisi kolom-kolom yang sudah ada, untuk mengecek apakah data ini benar-benar tidak memiliki baris yang duplikat"
   ]
  },
  {
   "cell_type": "code",
   "execution_count": 4,
   "id": "fbc1c464",
   "metadata": {},
   "outputs": [
    {
     "data": {
      "application/vnd.jupyter.widget-view+json": {
       "model_id": "21eacd6f410540edb496afee6ef4bda7",
       "version_major": 2,
       "version_minor": 0
      },
      "text/plain": [
       "Calculating Metrics:   0%|          | 0/8 [00:00<?, ?it/s]"
      ]
     },
     "metadata": {},
     "output_type": "display_data"
    },
    {
     "data": {
      "text/plain": [
       "{\n",
       "  \"meta\": {},\n",
       "  \"exception_info\": {\n",
       "    \"raised_exception\": false,\n",
       "    \"exception_traceback\": null,\n",
       "    \"exception_message\": null\n",
       "  },\n",
       "  \"result\": {\n",
       "    \"element_count\": 37440,\n",
       "    \"unexpected_count\": 0,\n",
       "    \"unexpected_percent\": 0.0,\n",
       "    \"partial_unexpected_list\": [],\n",
       "    \"missing_count\": 0,\n",
       "    \"missing_percent\": 0.0,\n",
       "    \"unexpected_percent_total\": 0.0,\n",
       "    \"unexpected_percent_nonmissing\": 0.0\n",
       "  },\n",
       "  \"success\": true\n",
       "}"
      ]
     },
     "execution_count": 4,
     "metadata": {},
     "output_type": "execute_result"
    }
   ],
   "source": [
    "df = validator.active_batch.data.dataframe\n",
    "\n",
    "# Tambah kolom unique_key berbasis kombinasi kolom\n",
    "df['unique_key'] = (\n",
    "    df['komoditas'].astype(str) + \"_\" +\n",
    "    df['provinsi'] + \"_\" +\n",
    "    df['date'].astype(str)\n",
    ")\n",
    "\n",
    "# Buat validator baru dari DataFrame yang telah dimodifikasi\n",
    "temp_validator = context.sources.pandas_default.read_dataframe(df)\n",
    "\n",
    "# Jalankan expectation untuk pastikan baris benar-benar unik\n",
    "temp_validator.expect_column_values_to_be_unique('unique_key')"
   ]
  },
  {
   "cell_type": "markdown",
   "id": "684440d9",
   "metadata": {},
   "source": [
    "### 2. To be not null"
   ]
  },
  {
   "cell_type": "code",
   "execution_count": 5,
   "id": "f0c49e79",
   "metadata": {},
   "outputs": [
    {
     "data": {
      "application/vnd.jupyter.widget-view+json": {
       "model_id": "d5bd7025697c45bdaeaa7db56b6fbb4d",
       "version_major": 2,
       "version_minor": 0
      },
      "text/plain": [
       "Calculating Metrics:   0%|          | 0/6 [00:00<?, ?it/s]"
      ]
     },
     "metadata": {},
     "output_type": "display_data"
    },
    {
     "data": {
      "text/plain": [
       "{\n",
       "  \"meta\": {},\n",
       "  \"exception_info\": {\n",
       "    \"raised_exception\": false,\n",
       "    \"exception_traceback\": null,\n",
       "    \"exception_message\": null\n",
       "  },\n",
       "  \"result\": {\n",
       "    \"element_count\": 37440,\n",
       "    \"unexpected_count\": 0,\n",
       "    \"unexpected_percent\": 0.0,\n",
       "    \"partial_unexpected_list\": []\n",
       "  },\n",
       "  \"success\": true\n",
       "}"
      ]
     },
     "execution_count": 5,
     "metadata": {},
     "output_type": "execute_result"
    }
   ],
   "source": [
    "# Expectation 1 : Column `harga` can not contain missing values\n",
    "\n",
    "validator.expect_column_values_to_not_be_null('harga')"
   ]
  },
  {
   "cell_type": "code",
   "execution_count": 6,
   "id": "1f914d89",
   "metadata": {},
   "outputs": [
    {
     "data": {
      "application/vnd.jupyter.widget-view+json": {
       "model_id": "a8d403785dfd4089933744b9f3e0904a",
       "version_major": 2,
       "version_minor": 0
      },
      "text/plain": [
       "Calculating Metrics:   0%|          | 0/6 [00:00<?, ?it/s]"
      ]
     },
     "metadata": {},
     "output_type": "display_data"
    },
    {
     "data": {
      "text/plain": [
       "{\n",
       "  \"meta\": {},\n",
       "  \"exception_info\": {\n",
       "    \"raised_exception\": false,\n",
       "    \"exception_traceback\": null,\n",
       "    \"exception_message\": null\n",
       "  },\n",
       "  \"result\": {\n",
       "    \"element_count\": 37440,\n",
       "    \"unexpected_count\": 0,\n",
       "    \"unexpected_percent\": 0.0,\n",
       "    \"partial_unexpected_list\": []\n",
       "  },\n",
       "  \"success\": true\n",
       "}"
      ]
     },
     "execution_count": 6,
     "metadata": {},
     "output_type": "execute_result"
    }
   ],
   "source": [
    "# Expectation 1 : Column `komoditas` can not contain missing values\n",
    "\n",
    "validator.expect_column_values_to_not_be_null('komoditas')"
   ]
  },
  {
   "cell_type": "code",
   "execution_count": 7,
   "id": "c38ae999",
   "metadata": {},
   "outputs": [
    {
     "data": {
      "application/vnd.jupyter.widget-view+json": {
       "model_id": "90f56457da244824ae2c073be63b4e45",
       "version_major": 2,
       "version_minor": 0
      },
      "text/plain": [
       "Calculating Metrics:   0%|          | 0/6 [00:00<?, ?it/s]"
      ]
     },
     "metadata": {},
     "output_type": "display_data"
    },
    {
     "data": {
      "text/plain": [
       "{\n",
       "  \"meta\": {},\n",
       "  \"exception_info\": {\n",
       "    \"raised_exception\": false,\n",
       "    \"exception_traceback\": null,\n",
       "    \"exception_message\": null\n",
       "  },\n",
       "  \"result\": {\n",
       "    \"element_count\": 37440,\n",
       "    \"unexpected_count\": 0,\n",
       "    \"unexpected_percent\": 0.0,\n",
       "    \"partial_unexpected_list\": []\n",
       "  },\n",
       "  \"success\": true\n",
       "}"
      ]
     },
     "execution_count": 7,
     "metadata": {},
     "output_type": "execute_result"
    }
   ],
   "source": [
    "# Expectation 1 : Column `date` can not contain missing values\n",
    "\n",
    "validator.expect_column_values_to_not_be_null('date')"
   ]
  },
  {
   "cell_type": "code",
   "execution_count": 8,
   "id": "8083ea5f",
   "metadata": {},
   "outputs": [
    {
     "data": {
      "application/vnd.jupyter.widget-view+json": {
       "model_id": "121f4980a72742e2ae9d20a644cf0caa",
       "version_major": 2,
       "version_minor": 0
      },
      "text/plain": [
       "Calculating Metrics:   0%|          | 0/6 [00:00<?, ?it/s]"
      ]
     },
     "metadata": {},
     "output_type": "display_data"
    },
    {
     "data": {
      "text/plain": [
       "{\n",
       "  \"meta\": {},\n",
       "  \"exception_info\": {\n",
       "    \"raised_exception\": false,\n",
       "    \"exception_traceback\": null,\n",
       "    \"exception_message\": null\n",
       "  },\n",
       "  \"result\": {\n",
       "    \"element_count\": 37440,\n",
       "    \"unexpected_count\": 0,\n",
       "    \"unexpected_percent\": 0.0,\n",
       "    \"partial_unexpected_list\": []\n",
       "  },\n",
       "  \"success\": true\n",
       "}"
      ]
     },
     "execution_count": 8,
     "metadata": {},
     "output_type": "execute_result"
    }
   ],
   "source": [
    "# Expectation 1 : Column `provinsi` can not contain missing values\n",
    "\n",
    "validator.expect_column_values_to_not_be_null('provinsi')"
   ]
  },
  {
   "cell_type": "markdown",
   "id": "cdfe661e",
   "metadata": {},
   "source": [
    "### 3. To be in set"
   ]
  },
  {
   "cell_type": "code",
   "execution_count": 9,
   "id": "843db49a",
   "metadata": {},
   "outputs": [
    {
     "data": {
      "application/vnd.jupyter.widget-view+json": {
       "model_id": "a4d36bcb7d704b81ad062174b46611b5",
       "version_major": 2,
       "version_minor": 0
      },
      "text/plain": [
       "Calculating Metrics:   0%|          | 0/8 [00:00<?, ?it/s]"
      ]
     },
     "metadata": {},
     "output_type": "display_data"
    },
    {
     "data": {
      "text/plain": [
       "{\n",
       "  \"meta\": {},\n",
       "  \"exception_info\": {\n",
       "    \"raised_exception\": false,\n",
       "    \"exception_traceback\": null,\n",
       "    \"exception_message\": null\n",
       "  },\n",
       "  \"result\": {\n",
       "    \"element_count\": 37440,\n",
       "    \"unexpected_count\": 0,\n",
       "    \"unexpected_percent\": 0.0,\n",
       "    \"partial_unexpected_list\": [],\n",
       "    \"missing_count\": 0,\n",
       "    \"missing_percent\": 0.0,\n",
       "    \"unexpected_percent_total\": 0.0,\n",
       "    \"unexpected_percent_nonmissing\": 0.0\n",
       "  },\n",
       "  \"success\": true\n",
       "}"
      ]
     },
     "execution_count": 9,
     "metadata": {},
     "output_type": "execute_result"
    }
   ],
   "source": [
    "validator.expect_column_values_to_be_in_set(\n",
    "    'provinsi',\n",
    "    ['Banten', 'DKI Jakarta', 'Jawa Barat', 'Jawa Tengah', 'Jawa Timur', 'D.I Yogyakarta']\n",
    ")"
   ]
  },
  {
   "cell_type": "markdown",
   "id": "1de8ecfb",
   "metadata": {},
   "source": [
    "### 4. To match strftime format"
   ]
  },
  {
   "cell_type": "code",
   "execution_count": 10,
   "id": "aa682a4e",
   "metadata": {},
   "outputs": [
    {
     "data": {
      "application/vnd.jupyter.widget-view+json": {
       "model_id": "64f3d4dfc47a4e2c982f1091c4411101",
       "version_major": 2,
       "version_minor": 0
      },
      "text/plain": [
       "Calculating Metrics:   0%|          | 0/8 [00:00<?, ?it/s]"
      ]
     },
     "metadata": {},
     "output_type": "display_data"
    },
    {
     "data": {
      "text/plain": [
       "{\n",
       "  \"meta\": {},\n",
       "  \"exception_info\": {\n",
       "    \"raised_exception\": false,\n",
       "    \"exception_traceback\": null,\n",
       "    \"exception_message\": null\n",
       "  },\n",
       "  \"result\": {\n",
       "    \"element_count\": 37440,\n",
       "    \"unexpected_count\": 0,\n",
       "    \"unexpected_percent\": 0.0,\n",
       "    \"partial_unexpected_list\": [],\n",
       "    \"missing_count\": 0,\n",
       "    \"missing_percent\": 0.0,\n",
       "    \"unexpected_percent_total\": 0.0,\n",
       "    \"unexpected_percent_nonmissing\": 0.0\n",
       "  },\n",
       "  \"success\": true\n",
       "}"
      ]
     },
     "execution_count": 10,
     "metadata": {},
     "output_type": "execute_result"
    }
   ],
   "source": [
    "validator.expect_column_values_to_match_strftime_format('date', \"%Y-%m-%d\")"
   ]
  },
  {
   "cell_type": "markdown",
   "id": "46a988cb",
   "metadata": {},
   "source": [
    "### 5. To be between"
   ]
  },
  {
   "cell_type": "code",
   "execution_count": null,
   "id": "b8b2cfc2",
   "metadata": {},
   "outputs": [
    {
     "data": {
      "application/vnd.jupyter.widget-view+json": {
       "model_id": "b676538a51964d56882d976f4490bd9f",
       "version_major": 2,
       "version_minor": 0
      },
      "text/plain": [
       "Calculating Metrics:   0%|          | 0/8 [00:00<?, ?it/s]"
      ]
     },
     "metadata": {},
     "output_type": "display_data"
    },
    {
     "data": {
      "text/plain": [
       "{\n",
       "  \"meta\": {},\n",
       "  \"exception_info\": {\n",
       "    \"raised_exception\": false,\n",
       "    \"exception_traceback\": null,\n",
       "    \"exception_message\": null\n",
       "  },\n",
       "  \"result\": {\n",
       "    \"element_count\": 37440,\n",
       "    \"unexpected_count\": 0,\n",
       "    \"unexpected_percent\": 0.0,\n",
       "    \"partial_unexpected_list\": [],\n",
       "    \"missing_count\": 0,\n",
       "    \"missing_percent\": 0.0,\n",
       "    \"unexpected_percent_total\": 0.0,\n",
       "    \"unexpected_percent_nonmissing\": 0.0\n",
       "  },\n",
       "  \"success\": true\n",
       "}"
      ]
     },
     "execution_count": 12,
     "metadata": {},
     "output_type": "execute_result"
    }
   ],
   "source": [
    "validator.expect_column_values_to_be_between(\n",
    "    column='harga',\n",
    "    min_value=7000,\n",
    "    max_value=52000\n",
    ")"
   ]
  },
  {
   "cell_type": "markdown",
   "id": "5c926a57",
   "metadata": {},
   "source": [
    "Berdasarkan distribusi statistik, rentang harga komoditas berkisar antara 7.480 hingga 50.000. Oleh karena itu, batas validasi ditetapkan dari 7.000 hingga 52.000 untuk mencakup nilai sah dan mendeteksi anomali ekstrem tanpa memicu false positive."
   ]
  },
  {
   "cell_type": "markdown",
   "id": "f1bb7e9e",
   "metadata": {},
   "source": [
    "### 6. To equal set"
   ]
  },
  {
   "cell_type": "code",
   "execution_count": 13,
   "id": "f2155146",
   "metadata": {},
   "outputs": [
    {
     "data": {
      "application/vnd.jupyter.widget-view+json": {
       "model_id": "be9dd69c54fc4fababae49c6c66f4c05",
       "version_major": 2,
       "version_minor": 0
      },
      "text/plain": [
       "Calculating Metrics:   0%|          | 0/4 [00:00<?, ?it/s]"
      ]
     },
     "metadata": {},
     "output_type": "display_data"
    },
    {
     "data": {
      "text/plain": [
       "{\n",
       "  \"meta\": {},\n",
       "  \"exception_info\": {\n",
       "    \"raised_exception\": false,\n",
       "    \"exception_traceback\": null,\n",
       "    \"exception_message\": null\n",
       "  },\n",
       "  \"result\": {\n",
       "    \"observed_value\": [\n",
       "      \"Beras Medium\",\n",
       "      \"Daging Ayam Ras\",\n",
       "      \"Minyak Goreng Kemasan\",\n",
       "      \"Telur Ayam Ras\"\n",
       "    ],\n",
       "    \"details\": {\n",
       "      \"value_counts\": [\n",
       "        {\n",
       "          \"value\": \"Beras Medium\",\n",
       "          \"count\": 9360\n",
       "        },\n",
       "        {\n",
       "          \"value\": \"Daging Ayam Ras\",\n",
       "          \"count\": 9360\n",
       "        },\n",
       "        {\n",
       "          \"value\": \"Minyak Goreng Kemasan\",\n",
       "          \"count\": 9360\n",
       "        },\n",
       "        {\n",
       "          \"value\": \"Telur Ayam Ras\",\n",
       "          \"count\": 9360\n",
       "        }\n",
       "      ]\n",
       "    }\n",
       "  },\n",
       "  \"success\": true\n",
       "}"
      ]
     },
     "execution_count": 13,
     "metadata": {},
     "output_type": "execute_result"
    }
   ],
   "source": [
    "validator.expect_column_distinct_values_to_equal_set(\n",
    "    column='komoditas',\n",
    "    value_set=[\n",
    "        'Beras Medium',\n",
    "        'Daging Ayam Ras',\n",
    "        'Telur Ayam Ras',\n",
    "        'Minyak Goreng Kemasan'\n",
    "    ]\n",
    ")"
   ]
  }
 ],
 "metadata": {
  "kernelspec": {
   "display_name": "base",
   "language": "python",
   "name": "python3"
  },
  "language_info": {
   "codemirror_mode": {
    "name": "ipython",
    "version": 3
   },
   "file_extension": ".py",
   "mimetype": "text/x-python",
   "name": "python",
   "nbconvert_exporter": "python",
   "pygments_lexer": "ipython3",
   "version": "3.9.21"
  }
 },
 "nbformat": 4,
 "nbformat_minor": 5
}
